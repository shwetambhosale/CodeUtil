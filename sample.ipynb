{
 "cells": [
  {
   "cell_type": "code",
   "execution_count": 1,
   "metadata": {},
   "outputs": [],
   "source": [
    "import ast \n",
    "import re \n",
    "from azure.devops.connection import Connection\n",
    "from msrest.authentication import BasicAuthentication\n",
    "import os\n",
    "from langchain_community.vectorstores.faiss import FAISS\n",
    "import faiss  \n",
    "import numpy as np\n",
    "from langchain.text_splitter import CharacterTextSplitter\n",
    "from transformers import AutoTokenizer, AutoModel\n",
    "import torch"
   ]
  },
  {
   "cell_type": "code",
   "execution_count": 2,
   "metadata": {},
   "outputs": [],
   "source": [
    "from dotenv import load_dotenv\n",
    "load_dotenv()\n",
    "\n",
    "#PAT\n",
    "personal_access_token = os.getenv(\"AZURE_DEVOPS_PAT\")  \n",
    "organization_url = 'https://dev.azure.com/shwetambhosale18'\n",
    "\n",
    "# Authenticate using the personal access token\n",
    "credentials = BasicAuthentication('', personal_access_token)\n",
    "connection = Connection(base_url=organization_url, creds=credentials)\n",
    "\n",
    "# Initialize the Git client\n",
    "git_client = connection.clients.get_git_client()"
   ]
  },
  {
   "cell_type": "code",
   "execution_count": 3,
   "metadata": {},
   "outputs": [],
   "source": [
    "def get_code_from_repo(repo_name, project_name, file_types=['.py', '.js']):\n",
    "    repo = git_client.get_repository(project=project_name, repository_id=repo_name)\n",
    "    \n",
    "    # Get items (files and directories) from the repository root\n",
    "    items = git_client.get_items(project=project_name, repository_id=repo.id, recursion_level='Full')\n",
    "\n",
    "    if not items:\n",
    "        print(\"No items found in the repository.\")\n",
    "    \n",
    "    code = \"\"\n",
    "    for item in items:\n",
    "        if item.is_folder:\n",
    "            print(f\"Skipping folder: {item.path}\")\n",
    "        else:\n",
    "            print(f\"Found file: {item.path}\")  # Debug print to show found file paths\n",
    "            \n",
    "            if any(item.path.endswith(ext) for ext in file_types):  # Filter by file type\n",
    "                print(f\"Fetching content of: {item.path}\")  # Debug print to show file being processed\n",
    "                \n",
    "                # Get the content of each item (handle as a generator)\n",
    "                file_content_generator = git_client.get_blob_content(project=project_name, repository_id=repo.id, sha1=item.object_id)\n",
    "                \n",
    "                # Collect content from the generator and decode bytes\n",
    "                file_content = ''.join([chunk.decode('utf-8') for chunk in file_content_generator])\n",
    "\n",
    "                if file_content:\n",
    "                    code += file_content  # Append the content to the `code` string\n",
    "                else:\n",
    "                    print(f\"No content found for file: {item.path}\")  # Debug print if no content is found\n",
    "    \n",
    "    return code"
   ]
  },
  {
   "cell_type": "code",
   "execution_count": 6,
   "metadata": {},
   "outputs": [],
   "source": [
    "def get_txt_text(txt_files_dir):\n",
    "    text = \"\"  # Initialize an empty string to collect all the text\n",
    "\n",
    "    # Traverse through all the files in the given directory\n",
    "    for file_name in os.listdir(txt_files_dir):\n",
    "        # Only process .txt files\n",
    "        if file_name.endswith('.txt'):\n",
    "            file_path = os.path.join(txt_files_dir, file_name)\n",
    "            \n",
    "            # Open and read the file content\n",
    "            with open(file_path, 'r', encoding='utf-8') as f:\n",
    "                file_content = f.read()\n",
    "                text += file_content  # Append the file content to the main text variable\n",
    "                \n",
    "                print(f\"Reading file: {file_name}\")  # Optional debug print\n",
    "\n",
    "    return text"
   ]
  },
  {
   "cell_type": "code",
   "execution_count": 7,
   "metadata": {},
   "outputs": [
    {
     "name": "stdout",
     "output_type": "stream",
     "text": [
      "Reading file: app.py.txt\n",
      "Reading file: index.js.txt\n",
      "Reading file: test1.py.txt\n",
      "Reading file: test2_file_handling.py.txt\n"
     ]
    },
    {
     "data": {
      "text/plain": [
       "'import streamlit as st\\n\\nimport numpy as np\\n\\nimport tensorflow as tf\\n\\nfrom sklearn.preprocessing import StandardScaler, LabelEncoder, OneHotEncoder\\n\\nimport pandas as pd\\n\\nimport pickle\\n\\n\\n\\n# Load the trained model\\n\\nmodel = tf.keras.models.load_model(\\'model.h5\\')\\n\\n\\n\\n# Load the encoders and scaler\\n\\nwith open(\\'label_encoder_gender.pkl\\', \\'rb\\') as file:\\n\\n    label_encoder_gender = pickle.load(file)\\n\\n\\n\\nwith open(\\'onehot_encoder_geo.pkl\\', \\'rb\\') as file:\\n\\n    onehot_encoder_geo = pickle.load(file)\\n\\n\\n\\nwith open(\\'scaler.pkl\\', \\'rb\\') as file:\\n\\n    scaler = pickle.load(file)\\n\\n\\n\\n\\n\\n## streamlit app\\n\\nst.title(\\'Customer Churn PRediction\\')\\n\\n\\n\\n# User input\\n\\ngeography = st.selectbox(\\'Geography\\', onehot_encoder_geo.categories_[0])\\n\\ngender = st.selectbox(\\'Gender\\', label_encoder_gender.classes_)\\n\\nage = st.slider(\\'Age\\', 18, 92)\\n\\nbalance = st.number_input(\\'Balance\\')\\n\\ncredit_score = st.number_input(\\'Credit Score\\')\\n\\nestimated_salary = st.number_input(\\'Estimated Salary\\')\\n\\ntenure = st.slider(\\'Tenure\\', 0, 10)\\n\\nnum_of_products = st.slider(\\'Number of Products\\', 1, 4)\\n\\nhas_cr_card = st.selectbox(\\'Has Credit Card\\', [0, 1])\\n\\nis_active_member = st.selectbox(\\'Is Active Member\\', [0, 1])\\n\\n\\n\\n# Prepare the input data\\n\\ninput_data = pd.DataFrame({\\n\\n    \\'CreditScore\\': [credit_score],\\n\\n    \\'Gender\\': [label_encoder_gender.transform([gender])[0]],\\n\\n    \\'Age\\': [age],\\n\\n    \\'Tenure\\': [tenure],\\n\\n    \\'Balance\\': [balance],\\n\\n    \\'NumOfProducts\\': [num_of_products],\\n\\n    \\'HasCrCard\\': [has_cr_card],\\n\\n    \\'IsActiveMember\\': [is_active_member],\\n\\n    \\'EstimatedSalary\\': [estimated_salary]\\n\\n})\\n\\n\\n\\n# One-hot encode \\'Geography\\'\\n\\ngeo_encoded = onehot_encoder_geo.transform([[geography]]).toarray()\\n\\ngeo_encoded_df = pd.DataFrame(geo_encoded, columns=onehot_encoder_geo.get_feature_names_out([\\'Geography\\']))\\n\\n\\n\\n# Combine one-hot encoded columns with input data\\n\\ninput_data = pd.concat([input_data.reset_index(drop=True), geo_encoded_df], axis=1)\\n\\n\\n\\n# Scale the input data\\n\\ninput_data_scaled = scaler.transform(input_data)\\n\\n\\n\\n\\n\\n# Predict churn\\n\\nprediction = model.predict(input_data_scaled)\\n\\nprediction_proba = prediction[0][0]\\n\\n\\n\\nst.write(f\\'Churn Probability: {prediction_proba:.2f}\\')\\n\\n\\n\\nif prediction_proba > 0.5:\\n\\n    st.write(\\'The customer is likely to churn.\\')\\n\\nelse:\\n\\n    st.write(\\'The customer is not likely to churn.\\')\\n\\nimport express from \\'express\\';\\n\\nimport cors from \\'cors\\';\\n\\nimport dotenv from \\'dotenv\\';\\n\\nimport connectDB from \\'./config/db.js\\';  \\n\\nimport authRoutes from \\'./routes/auth.js\\';\\n\\n\\n\\ndotenv.config();  \\n\\nconnectDB();\\n\\n\\n\\nconst app = express();\\n\\napp.use(cors());\\n\\napp.use(express.json());  \\n\\n\\n\\n// Use the routes\\n\\napp.use(\\'/auth\\', authRoutes);  \\n\\n\\n\\nconst PORT = process.env.PORT || 3000;\\n\\napp.listen(PORT, () => {\\n\\n    console.log(`Server running on port ${PORT}`);\\n\\n});\\n\\n\\n\\n# Python file with functions and classes\\n\\n\\n\\n# Function to calculate the area of a circle\\n\\ndef calculate_circle_area(radius):\\n\\n    \"\"\"Returns the area of a circle given its radius.\"\"\"\\n\\n    import math\\n\\n    if radius <= 0:\\n\\n        return \"Invalid radius\"\\n\\n    return math.pi * radius ** 2\\n\\n\\n\\n# Function to calculate factorial\\n\\ndef factorial(n):\\n\\n    \"\"\"Returns the factorial of a number.\"\"\"\\n\\n    if n < 0:\\n\\n        return \"Factorial not defined for negative numbers\"\\n\\n    elif n == 0 or n == 1:\\n\\n        return 1\\n\\n    else:\\n\\n        result = 1\\n\\n        for i in range(2, n + 1):\\n\\n            result *= i\\n\\n        return result\\n\\n\\n\\n# Function to check if a number is prime\\n\\ndef is_prime(num):\\n\\n    \"\"\"Checks if a number is a prime number.\"\"\"\\n\\n    if num < 2:\\n\\n        return False\\n\\n    for i in range(2, int(num ** 0.5) + 1):\\n\\n        if num % i == 0:\\n\\n            return False\\n\\n    return True\\n\\n\\n\\n# Function to find the greatest common divisor (GCD)\\n\\ndef gcd(a, b):\\n\\n    \"\"\"Finds the greatest common divisor (GCD) of two numbers.\"\"\"\\n\\n    while b:\\n\\n        a, b = b, a % b\\n\\n    return a\\n\\n\\n\\n# Class to represent a bank account\\n\\nclass BankAccount:\\n\\n    \"\"\"A simple Bank Account class to manage account operations.\"\"\"\\n\\n    \\n\\n    def __init__(self, owner, balance=0):\\n\\n        self.owner = owner\\n\\n        self.balance = balance\\n\\n\\n\\n    def deposit(self, amount):\\n\\n        \"\"\"Deposits a specified amount into the account.\"\"\"\\n\\n        if amount > 0:\\n\\n            self.balance += amount\\n\\n            return f\"Deposited {amount}. New balance: {self.balance}\"\\n\\n        return \"Invalid deposit amount.\"\\n\\n\\n\\n    def withdraw(self, amount):\\n\\n        \"\"\"Withdraws a specified amount from the account.\"\"\"\\n\\n        if amount > self.balance:\\n\\n            return \"Insufficient balance.\"\\n\\n        elif amount <= 0:\\n\\n            return \"Invalid withdrawal amount.\"\\n\\n        else:\\n\\n            self.balance -= amount\\n\\n            return f\"Withdrew {amount}. New balance: {self.balance}\"\\n\\n\\n\\n# Class to represent a rectangle\\n\\nclass Rectangle:\\n\\n    \"\"\"A class to represent a rectangle with length and width.\"\"\"\\n\\n    \\n\\n    def __init__(self, length, width):\\n\\n        self.length = length\\n\\n        self.width = width\\n\\n\\n\\n    def area(self):\\n\\n        \"\"\"Calculates the area of the rectangle.\"\"\"\\n\\n        return self.length * self.width\\n\\n\\n\\n    def perimeter(self):\\n\\n        \"\"\"Calculates the perimeter of the rectangle.\"\"\"\\n\\n        return 2 * (self.length + self.width)\\n\\n\\n\\n# Class to manage a collection of books in a library\\n\\nclass Library:\\n\\n    \"\"\"A simple Library class to manage book collections.\"\"\"\\n\\n    \\n\\n    def __init__(self):\\n\\n        self.books = []\\n\\n\\n\\n    def add_book(self, book):\\n\\n        \"\"\"Adds a new book to the collection.\"\"\"\\n\\n        self.books.append(book)\\n\\n        return f\"Book \\'{book}\\' added to the library.\"\\n\\n\\n\\n    def remove_book(self, book):\\n\\n        \"\"\"Removes a book from the collection.\"\"\"\\n\\n        if book in self.books:\\n\\n            self.books.remove(book)\\n\\n            return f\"Book \\'{book}\\' removed from the library.\"\\n\\n        return \"Book not found.\"\\n\\n\\n\\n    def list_books(self):\\n\\n        \"\"\"Lists all the books in the collection.\"\"\"\\n\\n        return f\"Available books: {\\', \\'.join(self.books)}\" if self.books else \"No books available.\"\\n\\n\\n\\n# Testing the functions and classes\\n\\nif __name__ == \"__main__\":\\n\\n    # Function tests\\n\\n    print(calculate_circle_area(5))\\n\\n    print(factorial(5))\\n\\n    print(is_prime(11))\\n\\n    print(gcd(54, 24))\\n\\n\\n\\n    # BankAccount class test\\n\\n    account = BankAccount(\"John Doe\", 100)\\n\\n    print(account.deposit(50))\\n\\n    print(account.withdraw(30))\\n\\n\\n\\n    # Rectangle class test\\n\\n    rect = Rectangle(10, 5)\\n\\n    print(f\"Area: {rect.area()}\")\\n\\n    print(f\"Perimeter: {rect.perimeter()}\")\\n\\n\\n\\n    # Library class test\\n\\n    library = Library()\\n\\n    print(library.add_book(\"1984\"))\\n\\n    print(library.add_book(\"To Kill a Mockingbird\"))\\n\\n    print(library.list_books())\\n\\n    print(library.remove_book(\"1984\"))\\n\\n    print(library.list_books())\\n\\n# Python code to read a text file\\n\\nwith open(\\'example.txt\\', \\'r\\') as f:\\n\\n    data = f.read()\\n\\n    print(data)\\n\\n'"
      ]
     },
     "execution_count": 7,
     "metadata": {},
     "output_type": "execute_result"
    }
   ],
   "source": [
    "get_txt_text(\"output_files\")"
   ]
  },
  {
   "cell_type": "code",
   "execution_count": 5,
   "metadata": {},
   "outputs": [
    {
     "name": "stdout",
     "output_type": "stream",
     "text": [
      "Skipping folder: /\n",
      "Found file: /README.md\n",
      "Found file: /app.py\n",
      "Fetching content of: /app.py\n",
      "File saved as: output_files\\app.py.txt\n",
      "Found file: /index.js\n",
      "Fetching content of: /index.js\n",
      "File saved as: output_files\\index.js.txt\n",
      "Found file: /test1.py\n",
      "Fetching content of: /test1.py\n",
      "File saved as: output_files\\test1.py.txt\n",
      "Found file: /test2_file_handling.py\n",
      "Fetching content of: /test2_file_handling.py\n",
      "File saved as: output_files\\test2_file_handling.py.txt\n",
      "All matching files have been processed.\n",
      "None\n"
     ]
    }
   ],
   "source": [
    "repo_name = \"SPARK\"\n",
    "project_name = \"SPARK\"  # Replace with your actual project name\n",
    "\n",
    "code_df = get_code_from_repo(repo_name, project_name)\n",
    "\n",
    "print(code_df)"
   ]
  },
  {
   "cell_type": "code",
   "execution_count": 6,
   "metadata": {},
   "outputs": [],
   "source": [
    "# # Character wise splitting \n",
    "def code_to_chunks(code_text):\n",
    "    text_splitter = CharacterTextSplitter(\n",
    "        chunk_size=2000,\n",
    "        chunk_overlap=500,\n",
    "        separator=\"\\n\",\n",
    "        length_function=len\n",
    "    )\n",
    "    chunks = text_splitter.split_text(code_text)\n",
    "    return chunks"
   ]
  },
  {
   "cell_type": "code",
   "execution_count": 7,
   "metadata": {},
   "outputs": [
    {
     "data": {
      "text/plain": [
       "[\"import streamlit as st\\r\\nimport numpy as np\\r\\nimport tensorflow as tf\\r\\nfrom sklearn.preprocessing import StandardScaler, LabelEncoder, OneHotEncoder\\r\\nimport pandas as pd\\r\\nimport pickle\\r\\n\\r\\n# Load the trained model\\r\\nmodel = tf.keras.models.load_model('model.h5')\\r\\n\\r\\n# Load the encoders and scaler\\r\\nwith open('label_encoder_gender.pkl', 'rb') as file:\\r\\n    label_encoder_gender = pickle.load(file)\\r\\n\\r\\nwith open('onehot_encoder_geo.pkl', 'rb') as file:\\r\\n    onehot_encoder_geo = pickle.load(file)\\r\\n\\r\\nwith open('scaler.pkl', 'rb') as file:\\r\\n    scaler = pickle.load(file)\\r\\n\\r\\n\\r\\n## streamlit app\\r\\nst.title('Customer Churn PRediction')\\r\\n\\r\\n# User input\\r\\ngeography = st.selectbox('Geography', onehot_encoder_geo.categories_[0])\\r\\ngender = st.selectbox('Gender', label_encoder_gender.classes_)\\r\\nage = st.slider('Age', 18, 92)\\r\\nbalance = st.number_input('Balance')\\r\\ncredit_score = st.number_input('Credit Score')\\r\\nestimated_salary = st.number_input('Estimated Salary')\\r\\ntenure = st.slider('Tenure', 0, 10)\\r\\nnum_of_products = st.slider('Number of Products', 1, 4)\\r\\nhas_cr_card = st.selectbox('Has Credit Card', [0, 1])\\r\\nis_active_member = st.selectbox('Is Active Member', [0, 1])\\r\\n\\r\\n# Prepare the input data\\r\\ninput_data = pd.DataFrame({\\r\\n    'CreditScore': [credit_score],\\r\\n    'Gender': [label_encoder_gender.transform([gender])[0]],\\r\\n    'Age': [age],\\r\\n    'Tenure': [tenure],\\r\\n    'Balance': [balance],\\r\\n    'NumOfProducts': [num_of_products],\\r\\n    'HasCrCard': [has_cr_card],\\r\\n    'IsActiveMember': [is_active_member],\\r\\n    'EstimatedSalary': [estimated_salary]\\r\\n})\\r\\n\\r\\n# One-hot encode 'Geography'\\r\\ngeo_encoded = onehot_encoder_geo.transform([[geography]]).toarray()\\r\\ngeo_encoded_df = pd.DataFrame(geo_encoded, columns=onehot_encoder_geo.get_feature_names_out(['Geography']))\\r\\n\\r\\n# Combine one-hot encoded columns with input data\\r\\ninput_data = pd.concat([input_data.reset_index(drop=True), geo_encoded_df], axis=1)\\r\\n\\r\\n# Scale the input data\\r\\ninput_data_scaled = scaler.transform(input_data)\\r\\n\\r\\n\\r\\n# Predict churn\",\n",
       " '\\'EstimatedSalary\\': [estimated_salary]\\r\\n})\\r\\n\\r\\n# One-hot encode \\'Geography\\'\\r\\ngeo_encoded = onehot_encoder_geo.transform([[geography]]).toarray()\\r\\ngeo_encoded_df = pd.DataFrame(geo_encoded, columns=onehot_encoder_geo.get_feature_names_out([\\'Geography\\']))\\r\\n\\r\\n# Combine one-hot encoded columns with input data\\r\\ninput_data = pd.concat([input_data.reset_index(drop=True), geo_encoded_df], axis=1)\\r\\n\\r\\n# Scale the input data\\r\\ninput_data_scaled = scaler.transform(input_data)\\r\\n\\r\\n\\r\\n# Predict churn\\r\\nprediction = model.predict(input_data_scaled)\\r\\nprediction_proba = prediction[0][0]\\r\\n\\r\\nst.write(f\\'Churn Probability: {prediction_proba:.2f}\\')\\r\\n\\r\\nif prediction_proba > 0.5:\\r\\n    st.write(\\'The customer is likely to churn.\\')\\r\\nelse:\\r\\n    st.write(\\'The customer is not likely to churn.\\')\\r\\nimport express from \\'express\\';\\r\\nimport cors from \\'cors\\';\\r\\nimport dotenv from \\'dotenv\\';\\r\\nimport connectDB from \\'./config/db.js\\';  \\r\\nimport authRoutes from \\'./routes/auth.js\\';\\r\\n\\r\\ndotenv.config();  \\r\\nconnectDB();\\r\\n\\r\\nconst app = express();\\r\\napp.use(cors());\\r\\napp.use(express.json());  \\r\\n\\r\\n// Use the routes\\r\\napp.use(\\'/auth\\', authRoutes);  \\r\\n\\r\\nconst PORT = process.env.PORT || 3000;\\r\\napp.listen(PORT, () => {\\r\\n    console.log(`Server running on port ${PORT}`);\\r\\n});\\r\\n\\r\\n# Python file with functions and classes\\r\\n\\r\\n# Function to calculate the area of a circle\\r\\ndef calculate_circle_area(radius):\\r\\n    \"\"\"Returns the area of a circle given its radius.\"\"\"\\r\\n    import math\\r\\n    if radius <= 0:\\r\\n        return \"Invalid radius\"\\r\\n    return math.pi * radius ** 2\\r\\n\\r\\n# Function to calculate factorial\\r\\ndef factorial(n):\\r\\n    \"\"\"Returns the factorial of a number.\"\"\"\\r\\n    if n < 0:\\r\\n        return \"Factorial not defined for negative numbers\"\\r\\n    elif n == 0 or n == 1:\\r\\n        return 1\\r\\n    else:\\r\\n        result = 1\\r\\n        for i in range(2, n + 1):\\r\\n            result *= i\\r\\n        return result\\r\\n\\r\\n# Function to check if a number is prime\\r\\ndef is_prime(num):\\r\\n    \"\"\"Checks if a number is a prime number.\"\"\"\\r\\n    if num < 2:',\n",
       " '# Function to calculate factorial\\r\\ndef factorial(n):\\r\\n    \"\"\"Returns the factorial of a number.\"\"\"\\r\\n    if n < 0:\\r\\n        return \"Factorial not defined for negative numbers\"\\r\\n    elif n == 0 or n == 1:\\r\\n        return 1\\r\\n    else:\\r\\n        result = 1\\r\\n        for i in range(2, n + 1):\\r\\n            result *= i\\r\\n        return result\\r\\n\\r\\n# Function to check if a number is prime\\r\\ndef is_prime(num):\\r\\n    \"\"\"Checks if a number is a prime number.\"\"\"\\r\\n    if num < 2:\\r\\n        return False\\r\\n    for i in range(2, int(num ** 0.5) + 1):\\r\\n        if num % i == 0:\\r\\n            return False\\r\\n    return True\\r\\n\\r\\n# Function to find the greatest common divisor (GCD)\\r\\ndef gcd(a, b):\\r\\n    \"\"\"Finds the greatest common divisor (GCD) of two numbers.\"\"\"\\r\\n    while b:\\r\\n        a, b = b, a % b\\r\\n    return a\\r\\n\\r\\n# Class to represent a bank account\\r\\nclass BankAccount:\\r\\n    \"\"\"A simple Bank Account class to manage account operations.\"\"\"\\r\\n    \\r\\n    def __init__(self, owner, balance=0):\\r\\n        self.owner = owner\\r\\n        self.balance = balance\\r\\n\\r\\n    def deposit(self, amount):\\r\\n        \"\"\"Deposits a specified amount into the account.\"\"\"\\r\\n        if amount > 0:\\r\\n            self.balance += amount\\r\\n            return f\"Deposited {amount}. New balance: {self.balance}\"\\r\\n        return \"Invalid deposit amount.\"\\r\\n\\r\\n    def withdraw(self, amount):\\r\\n        \"\"\"Withdraws a specified amount from the account.\"\"\"\\r\\n        if amount > self.balance:\\r\\n            return \"Insufficient balance.\"\\r\\n        elif amount <= 0:\\r\\n            return \"Invalid withdrawal amount.\"\\r\\n        else:\\r\\n            self.balance -= amount\\r\\n            return f\"Withdrew {amount}. New balance: {self.balance}\"\\r\\n\\r\\n# Class to represent a rectangle\\r\\nclass Rectangle:\\r\\n    \"\"\"A class to represent a rectangle with length and width.\"\"\"\\r\\n    \\r\\n    def __init__(self, length, width):\\r\\n        self.length = length\\r\\n        self.width = width\\r\\n\\r\\n    def area(self):\\r\\n        \"\"\"Calculates the area of the rectangle.\"\"\"',\n",
       " 'elif amount <= 0:\\r\\n            return \"Invalid withdrawal amount.\"\\r\\n        else:\\r\\n            self.balance -= amount\\r\\n            return f\"Withdrew {amount}. New balance: {self.balance}\"\\r\\n\\r\\n# Class to represent a rectangle\\r\\nclass Rectangle:\\r\\n    \"\"\"A class to represent a rectangle with length and width.\"\"\"\\r\\n    \\r\\n    def __init__(self, length, width):\\r\\n        self.length = length\\r\\n        self.width = width\\r\\n\\r\\n    def area(self):\\r\\n        \"\"\"Calculates the area of the rectangle.\"\"\"\\r\\n        return self.length * self.width\\r\\n\\r\\n    def perimeter(self):\\r\\n        \"\"\"Calculates the perimeter of the rectangle.\"\"\"\\r\\n        return 2 * (self.length + self.width)\\r\\n\\r\\n# Class to manage a collection of books in a library\\r\\nclass Library:\\r\\n    \"\"\"A simple Library class to manage book collections.\"\"\"\\r\\n    \\r\\n    def __init__(self):\\r\\n        self.books = []\\r\\n\\r\\n    def add_book(self, book):\\r\\n        \"\"\"Adds a new book to the collection.\"\"\"\\r\\n        self.books.append(book)\\r\\n        return f\"Book \\'{book}\\' added to the library.\"\\r\\n\\r\\n    def remove_book(self, book):\\r\\n        \"\"\"Removes a book from the collection.\"\"\"\\r\\n        if book in self.books:\\r\\n            self.books.remove(book)\\r\\n            return f\"Book \\'{book}\\' removed from the library.\"\\r\\n        return \"Book not found.\"\\r\\n\\r\\n    def list_books(self):\\r\\n        \"\"\"Lists all the books in the collection.\"\"\"\\r\\n        return f\"Available books: {\\', \\'.join(self.books)}\" if self.books else \"No books available.\"\\r\\n\\r\\n# Testing the functions and classes\\r\\nif __name__ == \"__main__\":\\r\\n    # Function tests\\r\\n    print(calculate_circle_area(5))\\r\\n    print(factorial(5))\\r\\n    print(is_prime(11))\\r\\n    print(gcd(54, 24))\\r\\n\\r\\n    # BankAccount class test\\r\\n    account = BankAccount(\"John Doe\", 100)\\r\\n    print(account.deposit(50))\\r\\n    print(account.withdraw(30))\\r\\n\\r\\n    # Rectangle class test\\r\\n    rect = Rectangle(10, 5)\\r\\n    print(f\"Area: {rect.area()}\")\\r\\n    print(f\"Perimeter: {rect.perimeter()}\")\\r\\n\\r\\n    # Library class test',\n",
       " 'if __name__ == \"__main__\":\\r\\n    # Function tests\\r\\n    print(calculate_circle_area(5))\\r\\n    print(factorial(5))\\r\\n    print(is_prime(11))\\r\\n    print(gcd(54, 24))\\r\\n\\r\\n    # BankAccount class test\\r\\n    account = BankAccount(\"John Doe\", 100)\\r\\n    print(account.deposit(50))\\r\\n    print(account.withdraw(30))\\r\\n\\r\\n    # Rectangle class test\\r\\n    rect = Rectangle(10, 5)\\r\\n    print(f\"Area: {rect.area()}\")\\r\\n    print(f\"Perimeter: {rect.perimeter()}\")\\r\\n\\r\\n    # Library class test\\r\\n    library = Library()\\r\\n    print(library.add_book(\"1984\"))\\r\\n    print(library.add_book(\"To Kill a Mockingbird\"))\\r\\n    print(library.list_books())\\r\\n    print(library.remove_book(\"1984\"))\\r\\n    print(library.list_books())\\r\\n# Python code to read a text file\\r\\nwith open(\\'example.txt\\', \\'r\\') as f:\\r\\n    data = f.read()\\r\\n    print(data)']"
      ]
     },
     "execution_count": 7,
     "metadata": {},
     "output_type": "execute_result"
    }
   ],
   "source": [
    "code_chunks = code_to_chunks(code_df)\n",
    "code_chunks"
   ]
  },
  {
   "cell_type": "code",
   "execution_count": 8,
   "metadata": {},
   "outputs": [
    {
     "name": "stderr",
     "output_type": "stream",
     "text": [
      "c:\\Users\\shwet\\AppData\\Local\\Programs\\Python\\Python312\\Lib\\site-packages\\transformers\\tokenization_utils_base.py:1601: FutureWarning: `clean_up_tokenization_spaces` was not set. It will be set to `True` by default. This behavior will be depracted in transformers v4.45, and will be then set to `False` by default. For more details check this issue: https://github.com/huggingface/transformers/issues/31884\n",
      "  warnings.warn(\n"
     ]
    }
   ],
   "source": [
    "# Load the tokenizer and model from Hugging Face\n",
    "tokenizer = AutoTokenizer.from_pretrained(\"microsoft/codebert-base\")\n",
    "model = AutoModel.from_pretrained(\"microsoft/codebert-base\")"
   ]
  },
  {
   "cell_type": "code",
   "execution_count": 9,
   "metadata": {},
   "outputs": [],
   "source": [
    "def get_code_vectorstore(chunks):\n",
    "    all_embeddings = []\n",
    "\n",
    "    for chunk in chunks:\n",
    "        # Tokenize the chunk\n",
    "        inputs = tokenizer(chunk, return_tensors=\"pt\", truncation=True, padding=True)\n",
    "        with torch.no_grad():\n",
    "            outputs = model(**inputs)\n",
    "\n",
    "        # Get the embeddings from the last hidden state\n",
    "        embeddings = outputs.last_hidden_state\n",
    "\n",
    "        # Average the embeddings to get a fixed-size vector\n",
    "        mean_embeddings = torch.mean(embeddings, dim=1).squeeze()\n",
    "\n",
    "        # Store the mean embeddings\n",
    "        all_embeddings.append(mean_embeddings)\n",
    "\n",
    "    # Convert to numpy array\n",
    "    embeddings = torch.stack(all_embeddings).detach().numpy()  # Convert to numpy array\n",
    "\n",
    "    # Define the dimension of your embeddings\n",
    "    embedding_dim = embeddings.shape[1]\n",
    "\n",
    "    # Create a FAISS index\n",
    "    index = faiss.IndexFlatL2(embedding_dim)  # Use L2 distance for similarity search\n",
    "\n",
    "    # Add the embeddings to the index\n",
    "    index.add(embeddings)\n",
    "\n",
    "    # Now you can return the index along with the texts\n",
    "    return index, chunks  # Return the index and the original chunks for reference\n"
   ]
  },
  {
   "cell_type": "code",
   "execution_count": 10,
   "metadata": {},
   "outputs": [],
   "source": [
    "vectors = get_code_vectorstore(code_chunks)"
   ]
  },
  {
   "cell_type": "code",
   "execution_count": 11,
   "metadata": {},
   "outputs": [
    {
     "data": {
      "text/plain": [
       "(<faiss.swigfaiss_avx2.IndexFlatL2; proxy of <Swig Object of type 'faiss::IndexFlatL2 *' at 0x000001640A9E04B0> >,\n",
       " [\"import streamlit as st\\r\\nimport numpy as np\\r\\nimport tensorflow as tf\\r\\nfrom sklearn.preprocessing import StandardScaler, LabelEncoder, OneHotEncoder\\r\\nimport pandas as pd\\r\\nimport pickle\\r\\n\\r\\n# Load the trained model\\r\\nmodel = tf.keras.models.load_model('model.h5')\\r\\n\\r\\n# Load the encoders and scaler\\r\\nwith open('label_encoder_gender.pkl', 'rb') as file:\\r\\n    label_encoder_gender = pickle.load(file)\\r\\n\\r\\nwith open('onehot_encoder_geo.pkl', 'rb') as file:\\r\\n    onehot_encoder_geo = pickle.load(file)\\r\\n\\r\\nwith open('scaler.pkl', 'rb') as file:\\r\\n    scaler = pickle.load(file)\\r\\n\\r\\n\\r\\n## streamlit app\\r\\nst.title('Customer Churn PRediction')\\r\\n\\r\\n# User input\\r\\ngeography = st.selectbox('Geography', onehot_encoder_geo.categories_[0])\\r\\ngender = st.selectbox('Gender', label_encoder_gender.classes_)\\r\\nage = st.slider('Age', 18, 92)\\r\\nbalance = st.number_input('Balance')\\r\\ncredit_score = st.number_input('Credit Score')\\r\\nestimated_salary = st.number_input('Estimated Salary')\\r\\ntenure = st.slider('Tenure', 0, 10)\\r\\nnum_of_products = st.slider('Number of Products', 1, 4)\\r\\nhas_cr_card = st.selectbox('Has Credit Card', [0, 1])\\r\\nis_active_member = st.selectbox('Is Active Member', [0, 1])\\r\\n\\r\\n# Prepare the input data\\r\\ninput_data = pd.DataFrame({\\r\\n    'CreditScore': [credit_score],\\r\\n    'Gender': [label_encoder_gender.transform([gender])[0]],\\r\\n    'Age': [age],\\r\\n    'Tenure': [tenure],\\r\\n    'Balance': [balance],\\r\\n    'NumOfProducts': [num_of_products],\\r\\n    'HasCrCard': [has_cr_card],\\r\\n    'IsActiveMember': [is_active_member],\\r\\n    'EstimatedSalary': [estimated_salary]\\r\\n})\\r\\n\\r\\n# One-hot encode 'Geography'\\r\\ngeo_encoded = onehot_encoder_geo.transform([[geography]]).toarray()\\r\\ngeo_encoded_df = pd.DataFrame(geo_encoded, columns=onehot_encoder_geo.get_feature_names_out(['Geography']))\\r\\n\\r\\n# Combine one-hot encoded columns with input data\\r\\ninput_data = pd.concat([input_data.reset_index(drop=True), geo_encoded_df], axis=1)\\r\\n\\r\\n# Scale the input data\\r\\ninput_data_scaled = scaler.transform(input_data)\\r\\n\\r\\n\\r\\n# Predict churn\",\n",
       "  '\\'EstimatedSalary\\': [estimated_salary]\\r\\n})\\r\\n\\r\\n# One-hot encode \\'Geography\\'\\r\\ngeo_encoded = onehot_encoder_geo.transform([[geography]]).toarray()\\r\\ngeo_encoded_df = pd.DataFrame(geo_encoded, columns=onehot_encoder_geo.get_feature_names_out([\\'Geography\\']))\\r\\n\\r\\n# Combine one-hot encoded columns with input data\\r\\ninput_data = pd.concat([input_data.reset_index(drop=True), geo_encoded_df], axis=1)\\r\\n\\r\\n# Scale the input data\\r\\ninput_data_scaled = scaler.transform(input_data)\\r\\n\\r\\n\\r\\n# Predict churn\\r\\nprediction = model.predict(input_data_scaled)\\r\\nprediction_proba = prediction[0][0]\\r\\n\\r\\nst.write(f\\'Churn Probability: {prediction_proba:.2f}\\')\\r\\n\\r\\nif prediction_proba > 0.5:\\r\\n    st.write(\\'The customer is likely to churn.\\')\\r\\nelse:\\r\\n    st.write(\\'The customer is not likely to churn.\\')\\r\\nimport express from \\'express\\';\\r\\nimport cors from \\'cors\\';\\r\\nimport dotenv from \\'dotenv\\';\\r\\nimport connectDB from \\'./config/db.js\\';  \\r\\nimport authRoutes from \\'./routes/auth.js\\';\\r\\n\\r\\ndotenv.config();  \\r\\nconnectDB();\\r\\n\\r\\nconst app = express();\\r\\napp.use(cors());\\r\\napp.use(express.json());  \\r\\n\\r\\n// Use the routes\\r\\napp.use(\\'/auth\\', authRoutes);  \\r\\n\\r\\nconst PORT = process.env.PORT || 3000;\\r\\napp.listen(PORT, () => {\\r\\n    console.log(`Server running on port ${PORT}`);\\r\\n});\\r\\n\\r\\n# Python file with functions and classes\\r\\n\\r\\n# Function to calculate the area of a circle\\r\\ndef calculate_circle_area(radius):\\r\\n    \"\"\"Returns the area of a circle given its radius.\"\"\"\\r\\n    import math\\r\\n    if radius <= 0:\\r\\n        return \"Invalid radius\"\\r\\n    return math.pi * radius ** 2\\r\\n\\r\\n# Function to calculate factorial\\r\\ndef factorial(n):\\r\\n    \"\"\"Returns the factorial of a number.\"\"\"\\r\\n    if n < 0:\\r\\n        return \"Factorial not defined for negative numbers\"\\r\\n    elif n == 0 or n == 1:\\r\\n        return 1\\r\\n    else:\\r\\n        result = 1\\r\\n        for i in range(2, n + 1):\\r\\n            result *= i\\r\\n        return result\\r\\n\\r\\n# Function to check if a number is prime\\r\\ndef is_prime(num):\\r\\n    \"\"\"Checks if a number is a prime number.\"\"\"\\r\\n    if num < 2:',\n",
       "  '# Function to calculate factorial\\r\\ndef factorial(n):\\r\\n    \"\"\"Returns the factorial of a number.\"\"\"\\r\\n    if n < 0:\\r\\n        return \"Factorial not defined for negative numbers\"\\r\\n    elif n == 0 or n == 1:\\r\\n        return 1\\r\\n    else:\\r\\n        result = 1\\r\\n        for i in range(2, n + 1):\\r\\n            result *= i\\r\\n        return result\\r\\n\\r\\n# Function to check if a number is prime\\r\\ndef is_prime(num):\\r\\n    \"\"\"Checks if a number is a prime number.\"\"\"\\r\\n    if num < 2:\\r\\n        return False\\r\\n    for i in range(2, int(num ** 0.5) + 1):\\r\\n        if num % i == 0:\\r\\n            return False\\r\\n    return True\\r\\n\\r\\n# Function to find the greatest common divisor (GCD)\\r\\ndef gcd(a, b):\\r\\n    \"\"\"Finds the greatest common divisor (GCD) of two numbers.\"\"\"\\r\\n    while b:\\r\\n        a, b = b, a % b\\r\\n    return a\\r\\n\\r\\n# Class to represent a bank account\\r\\nclass BankAccount:\\r\\n    \"\"\"A simple Bank Account class to manage account operations.\"\"\"\\r\\n    \\r\\n    def __init__(self, owner, balance=0):\\r\\n        self.owner = owner\\r\\n        self.balance = balance\\r\\n\\r\\n    def deposit(self, amount):\\r\\n        \"\"\"Deposits a specified amount into the account.\"\"\"\\r\\n        if amount > 0:\\r\\n            self.balance += amount\\r\\n            return f\"Deposited {amount}. New balance: {self.balance}\"\\r\\n        return \"Invalid deposit amount.\"\\r\\n\\r\\n    def withdraw(self, amount):\\r\\n        \"\"\"Withdraws a specified amount from the account.\"\"\"\\r\\n        if amount > self.balance:\\r\\n            return \"Insufficient balance.\"\\r\\n        elif amount <= 0:\\r\\n            return \"Invalid withdrawal amount.\"\\r\\n        else:\\r\\n            self.balance -= amount\\r\\n            return f\"Withdrew {amount}. New balance: {self.balance}\"\\r\\n\\r\\n# Class to represent a rectangle\\r\\nclass Rectangle:\\r\\n    \"\"\"A class to represent a rectangle with length and width.\"\"\"\\r\\n    \\r\\n    def __init__(self, length, width):\\r\\n        self.length = length\\r\\n        self.width = width\\r\\n\\r\\n    def area(self):\\r\\n        \"\"\"Calculates the area of the rectangle.\"\"\"',\n",
       "  'elif amount <= 0:\\r\\n            return \"Invalid withdrawal amount.\"\\r\\n        else:\\r\\n            self.balance -= amount\\r\\n            return f\"Withdrew {amount}. New balance: {self.balance}\"\\r\\n\\r\\n# Class to represent a rectangle\\r\\nclass Rectangle:\\r\\n    \"\"\"A class to represent a rectangle with length and width.\"\"\"\\r\\n    \\r\\n    def __init__(self, length, width):\\r\\n        self.length = length\\r\\n        self.width = width\\r\\n\\r\\n    def area(self):\\r\\n        \"\"\"Calculates the area of the rectangle.\"\"\"\\r\\n        return self.length * self.width\\r\\n\\r\\n    def perimeter(self):\\r\\n        \"\"\"Calculates the perimeter of the rectangle.\"\"\"\\r\\n        return 2 * (self.length + self.width)\\r\\n\\r\\n# Class to manage a collection of books in a library\\r\\nclass Library:\\r\\n    \"\"\"A simple Library class to manage book collections.\"\"\"\\r\\n    \\r\\n    def __init__(self):\\r\\n        self.books = []\\r\\n\\r\\n    def add_book(self, book):\\r\\n        \"\"\"Adds a new book to the collection.\"\"\"\\r\\n        self.books.append(book)\\r\\n        return f\"Book \\'{book}\\' added to the library.\"\\r\\n\\r\\n    def remove_book(self, book):\\r\\n        \"\"\"Removes a book from the collection.\"\"\"\\r\\n        if book in self.books:\\r\\n            self.books.remove(book)\\r\\n            return f\"Book \\'{book}\\' removed from the library.\"\\r\\n        return \"Book not found.\"\\r\\n\\r\\n    def list_books(self):\\r\\n        \"\"\"Lists all the books in the collection.\"\"\"\\r\\n        return f\"Available books: {\\', \\'.join(self.books)}\" if self.books else \"No books available.\"\\r\\n\\r\\n# Testing the functions and classes\\r\\nif __name__ == \"__main__\":\\r\\n    # Function tests\\r\\n    print(calculate_circle_area(5))\\r\\n    print(factorial(5))\\r\\n    print(is_prime(11))\\r\\n    print(gcd(54, 24))\\r\\n\\r\\n    # BankAccount class test\\r\\n    account = BankAccount(\"John Doe\", 100)\\r\\n    print(account.deposit(50))\\r\\n    print(account.withdraw(30))\\r\\n\\r\\n    # Rectangle class test\\r\\n    rect = Rectangle(10, 5)\\r\\n    print(f\"Area: {rect.area()}\")\\r\\n    print(f\"Perimeter: {rect.perimeter()}\")\\r\\n\\r\\n    # Library class test',\n",
       "  'if __name__ == \"__main__\":\\r\\n    # Function tests\\r\\n    print(calculate_circle_area(5))\\r\\n    print(factorial(5))\\r\\n    print(is_prime(11))\\r\\n    print(gcd(54, 24))\\r\\n\\r\\n    # BankAccount class test\\r\\n    account = BankAccount(\"John Doe\", 100)\\r\\n    print(account.deposit(50))\\r\\n    print(account.withdraw(30))\\r\\n\\r\\n    # Rectangle class test\\r\\n    rect = Rectangle(10, 5)\\r\\n    print(f\"Area: {rect.area()}\")\\r\\n    print(f\"Perimeter: {rect.perimeter()}\")\\r\\n\\r\\n    # Library class test\\r\\n    library = Library()\\r\\n    print(library.add_book(\"1984\"))\\r\\n    print(library.add_book(\"To Kill a Mockingbird\"))\\r\\n    print(library.list_books())\\r\\n    print(library.remove_book(\"1984\"))\\r\\n    print(library.list_books())\\r\\n# Python code to read a text file\\r\\nwith open(\\'example.txt\\', \\'r\\') as f:\\r\\n    data = f.read()\\r\\n    print(data)'])"
      ]
     },
     "execution_count": 11,
     "metadata": {},
     "output_type": "execute_result"
    }
   ],
   "source": [
    "vectors"
   ]
  },
  {
   "cell_type": "markdown",
   "metadata": {},
   "source": [
    "# Users Query Embedding"
   ]
  },
  {
   "cell_type": "code",
   "execution_count": 12,
   "metadata": {},
   "outputs": [],
   "source": [
    "def embed_query(query):\n",
    "    # Tokenize the query\n",
    "    inputs = tokenizer(query, return_tensors=\"pt\", truncation=True, padding=True)\n",
    "    \n",
    "    # Get embeddings from CodeBERT\n",
    "    with torch.no_grad():\n",
    "        outputs = model(**inputs)\n",
    "    \n",
    "    # Average the embeddings to get a fixed-size vector\n",
    "    query_embeddings = torch.mean(outputs.last_hidden_state, dim=1).squeeze()\n",
    "    \n",
    "    return query_embeddings.detach().numpy()\n"
   ]
  },
  {
   "cell_type": "code",
   "execution_count": 2,
   "metadata": {},
   "outputs": [
    {
     "name": "stdout",
     "output_type": "stream",
     "text": [
      "b'\\xac\\xaa\\xd6\\xa2\\x83\\xf7h\\xf4\\xc9\\xd7Q/\\xf4@\\x12\\xfb\\xff*\\xf8\\xe6b{\\xc5\\xc0'\n"
     ]
    }
   ],
   "source": [
    "import os\n",
    "\n",
    "# Generate a random secret key\n",
    "secret_key = os.urandom(24)\n",
    "print(secret_key)"
   ]
  },
  {
   "cell_type": "code",
   "execution_count": 13,
   "metadata": {},
   "outputs": [
    {
     "data": {
      "text/plain": [
       "array([-2.97147930e-02,  3.80501211e-01,  1.52565494e-01,  3.86769176e-01,\n",
       "        6.13175809e-01, -1.56934738e-01, -6.54542027e-03,  3.08514088e-01,\n",
       "        4.44860786e-01,  1.85581058e-01, -2.74414659e-01,  8.82109582e-01,\n",
       "       -1.28795624e-01, -1.53575122e-01,  8.93909454e-01, -8.20058864e-03,\n",
       "       -4.28725258e-02,  4.00118649e-01,  2.45825529e-01,  2.26167381e-01,\n",
       "       -2.06156537e-01, -2.72675246e-01,  3.51542383e-01, -2.29918420e-01,\n",
       "        2.90648311e-01,  2.27378681e-01,  2.08929658e-01,  5.61467171e-01,\n",
       "       -2.72135913e-01,  5.84309042e-01, -2.66152173e-01, -1.00609839e-01,\n",
       "        1.81704164e+00, -3.37376408e-02,  1.78443775e-01, -2.87772834e-01,\n",
       "       -2.79234932e-03,  1.76950246e-01,  2.23327912e-02, -4.91233356e-02,\n",
       "       -2.79246829e-02,  3.46576333e-01, -1.18681419e+00,  1.29489815e-02,\n",
       "        5.77934265e-01,  1.92006111e-01, -1.98998272e-01, -5.76355718e-02,\n",
       "       -2.13405281e-01,  2.11325482e-01,  4.40747023e-01,  7.27713257e-02,\n",
       "       -4.97071683e-01, -1.31839141e-01,  1.86780840e-01,  5.62356889e-01,\n",
       "       -1.06294274e+00,  1.68748900e-01, -1.81814924e-01, -1.34528250e-01,\n",
       "       -1.58289880e-01, -4.32488173e-01, -1.88263044e-01, -3.36018316e-02,\n",
       "        1.74925780e+00,  1.84671223e-01,  4.58640426e-01,  1.03671741e+00,\n",
       "       -9.53310728e-02,  3.22629809e-01, -1.22855149e-01, -2.25004643e-01,\n",
       "       -1.86043650e-01, -3.71253759e-01, -7.13517129e-01,  5.70657730e-01,\n",
       "       -3.11915487e-01, -7.78078270e+00, -4.06275481e-01,  4.15107369e-01,\n",
       "        3.65936935e-01, -3.34468216e-01,  2.25304425e-01,  5.28362930e-01,\n",
       "       -4.38226253e-01,  6.91585988e-02,  3.19174267e-02,  3.19335848e-01,\n",
       "       -7.87479818e-01, -1.18295394e-01, -4.45348350e-03,  2.21995905e-01,\n",
       "        8.80973399e-01,  8.59162569e-01, -1.64327383e-01,  6.49213552e-01,\n",
       "        2.75139600e-01, -4.89323497e-01,  2.28346184e-01, -3.03218722e-01,\n",
       "        4.11420703e-01, -5.42396188e-01,  4.03944492e-01,  3.07384938e-01,\n",
       "        3.55073005e-01, -3.84281546e-01,  5.25643051e-01, -3.03924114e-01,\n",
       "        3.63612235e-01,  1.14935741e-01,  1.21231407e-01, -1.73818499e-01,\n",
       "        5.08140385e-01,  4.27378029e-01,  9.62122828e-02, -2.43837669e-01,\n",
       "       -8.30099583e-02,  2.40352318e-01, -4.24942933e-02, -2.17422247e-01,\n",
       "       -8.08461010e-01,  1.46236479e-01, -3.08244824e-01,  7.25317180e-01,\n",
       "       -1.54859051e-01,  4.56305772e-01, -2.25876495e-01, -7.37124681e-02,\n",
       "        1.29874498e-01,  2.12526962e-01, -1.37461150e+00, -3.49186301e-01,\n",
       "       -9.59416255e-02,  4.74160552e-01,  3.14624906e-01, -2.78857917e-01,\n",
       "        2.84774661e-01,  7.19852298e-02, -2.06252605e-01,  4.25610960e-01,\n",
       "       -5.62778056e-01, -4.78008747e-01,  1.29603550e-01,  1.54795453e-01,\n",
       "        6.26903474e-01,  3.90348732e-02,  1.36937216e-01,  2.29411781e-01,\n",
       "        1.49114788e-01, -4.60251480e-01, -7.25695908e-01, -1.53347151e-02,\n",
       "        1.52440119e+00, -2.41017919e-02,  3.09651375e-01, -1.80210710e+00,\n",
       "       -1.02856196e-01,  1.26952499e-01, -3.61674242e-02, -3.92289430e-01,\n",
       "        6.03056848e-01, -3.50081801e-01, -6.80370033e-02,  4.27281380e-01,\n",
       "        5.08772612e-01,  1.12809688e-01, -1.99216306e-01, -4.61627603e-01,\n",
       "        2.59483606e-01,  7.43553460e-01, -7.12739527e-01, -7.40546942e-01,\n",
       "       -4.81297821e-01, -1.31218761e-01,  1.82412088e-01,  7.49534369e-01,\n",
       "        3.54337752e-01,  1.21141024e-01, -5.36417812e-02,  1.29413748e+00,\n",
       "        1.89112008e-01, -4.03111458e-01,  2.45623171e-01, -4.32366222e-01,\n",
       "       -1.21383615e-01,  5.83661437e-01, -1.75459310e-01,  4.97283816e-01,\n",
       "       -1.73311487e-01, -2.70494729e-01, -3.14528316e-01, -3.71297635e-02,\n",
       "        1.38351724e-01,  5.74755013e-01, -1.16088362e-02,  2.82630444e-01,\n",
       "        7.14153200e-02,  2.69568712e-01,  8.04315805e-01,  1.08207554e-01,\n",
       "       -1.47529542e-01,  3.42324615e-01,  2.36884460e-01,  7.28752045e-03,\n",
       "        3.07651371e-01,  3.07586312e-01,  7.55327269e-02,  5.63677609e-01,\n",
       "        3.20121884e-01,  1.35688949e+00,  1.88428009e+00, -1.51533112e-01,\n",
       "       -3.66027802e-02, -2.74453580e-01, -6.92962408e-01, -1.52355731e-01,\n",
       "       -6.55782998e-01,  4.65887748e-02, -1.63775012e-02,  6.81027532e-01,\n",
       "       -1.55057383e+00,  1.71135008e-01, -1.73302561e-01,  7.59041309e-02,\n",
       "       -2.04434454e-01, -8.81362241e-03,  3.84511590e-01, -1.00810543e-01,\n",
       "       -3.96882325e-01, -2.59351321e-02, -2.76194572e-01,  4.95865345e-02,\n",
       "       -1.49100438e-01, -1.31759271e-01, -4.02064770e-01, -6.01345181e-01,\n",
       "       -2.82570451e-01,  1.53925315e-01,  1.00625992e-01, -1.06387568e+00,\n",
       "       -8.18684816e-01,  2.07199067e-01,  5.41221619e-01,  7.73556173e-01,\n",
       "        2.44511545e-01, -5.49619794e-01,  1.05007425e-01,  2.91566074e-01,\n",
       "        4.61665094e-01,  4.25599992e-01, -3.91792096e-02,  3.74091864e-01,\n",
       "       -6.71195909e-02, -1.03319339e-01, -1.39641017e-01, -3.36051136e-01,\n",
       "       -4.19838160e-01, -1.53680414e-01,  2.40749568e-01,  1.64182901e+00,\n",
       "        1.71302661e-01,  1.26622945e-01,  3.95779282e-01, -7.79939353e-01,\n",
       "        5.05712986e-01, -2.97559887e-01,  3.21321450e-02,  1.89132646e-01,\n",
       "        6.13938570e-01,  5.42247057e-01,  1.54547060e+00,  3.52435738e-01,\n",
       "        3.16498466e-02,  3.15330833e-01,  2.20848806e-02,  5.33068255e-02,\n",
       "        4.58031774e-01, -5.85723016e-03, -9.84034002e-01, -1.58572972e-01,\n",
       "       -3.64374757e-01, -1.09564461e-01,  1.54098272e-01, -2.60038912e-01,\n",
       "       -1.87857777e-01, -1.78523809e-02,  2.85472035e-01,  3.46346408e-01,\n",
       "       -9.84364077e-02, -5.49790263e-02,  4.78836536e-01, -4.79906499e-01,\n",
       "        1.34446645e+00,  9.43524167e-02, -2.69189358e-01,  1.03519239e-01,\n",
       "        1.53051972e-01,  4.41093206e-01,  1.56554684e-01, -6.10791445e-01,\n",
       "        4.03344274e-01,  2.24111289e-01, -1.71204448e-01,  1.62061349e-01,\n",
       "       -4.79228973e-01, -2.13888109e-01, -4.91349161e-01,  1.82486266e-01,\n",
       "        2.99757540e-01,  2.21645702e-02,  2.62218475e-01, -8.70883286e-01,\n",
       "       -1.67916492e-02, -3.00401568e-01,  1.69813782e-01, -1.98339880e-01,\n",
       "       -1.49605095e-01,  2.75037587e-01, -9.36613511e-03,  5.58857322e-02,\n",
       "        2.98397839e-01, -2.14141116e-01,  8.55696738e-01, -9.91502106e-01,\n",
       "        3.31662178e-01,  4.28309798e-01, -4.57506299e-01, -5.32716215e-01,\n",
       "       -1.75919318e+00,  1.71119440e-02, -1.43970907e+00,  1.31532836e+00,\n",
       "        5.82267225e-01,  1.48058760e+00, -9.51465607e-01, -6.55947402e-02,\n",
       "        4.51843321e-01, -3.52125764e-01,  3.06869447e-01, -2.77382314e-01,\n",
       "       -1.39903831e+00,  3.64319533e-01, -5.43515682e-02,  7.26337079e-03,\n",
       "        1.71059176e-01,  8.64569128e-01, -1.27624452e-01,  2.31159702e-02,\n",
       "        1.34295177e+00,  3.38695735e-01, -2.81789988e-01, -8.72632802e-01,\n",
       "       -2.07614601e-01, -2.72010535e-01,  2.82109857e-01,  2.40040851e+00,\n",
       "        6.34874284e-01,  5.51544167e-02, -4.31696363e-02, -2.18458220e-01,\n",
       "        1.65422577e-02,  4.00788598e-02,  1.06816463e-01,  2.04375744e+00,\n",
       "        5.87600470e-01, -8.19108784e-02, -1.05391288e+00,  1.42254412e-01,\n",
       "       -1.11580148e-01,  2.43909329e-01,  1.44011363e-01, -4.29586232e-01,\n",
       "        1.85238291e-02,  2.54788905e-01,  2.01024145e-01, -4.19409633e-01,\n",
       "        9.31249931e-02, -4.87336703e-02,  5.32758474e-01,  1.59621850e-01,\n",
       "       -5.92601418e-01,  2.62747228e-01,  7.51007581e-03,  5.59494086e-02,\n",
       "       -9.39989090e-02, -1.85561395e+00,  5.59632480e-01, -3.91808391e-01,\n",
       "        1.38435316e+00, -2.05393881e-01,  1.21333510e-01,  2.27065220e-01,\n",
       "        3.95497292e-01, -1.85652196e-01, -1.39466047e-01,  1.87336907e-01,\n",
       "        1.09553792e-01,  6.22547805e-01, -2.83556819e-01, -4.91914868e-01,\n",
       "       -1.11993603e-01,  1.24200769e-01, -5.40083200e-02,  1.19993292e-01,\n",
       "       -1.03620254e-01,  2.41440803e-01, -6.15964234e-01, -3.36664647e-01,\n",
       "       -3.77547801e-01,  1.20242357e+00, -4.74415034e-01,  1.91232407e+00,\n",
       "       -2.92669654e-01,  4.68166284e-02,  1.14374161e-02,  5.57728224e-02,\n",
       "        3.14478040e-01, -1.02125990e+00, -8.69977474e-03,  4.36796218e-01,\n",
       "        6.77281320e-02,  2.88377076e-01,  4.81146127e-01, -5.40094018e-01,\n",
       "        6.59216821e-01,  8.90599005e-03, -2.48087216e-02, -5.31803444e-02,\n",
       "       -2.71809220e-01, -3.26695442e-01, -2.71609575e-01,  1.02859020e-01,\n",
       "        2.97651917e-01,  1.91443026e-01, -5.19926190e-01, -2.13600144e-01,\n",
       "       -3.06658626e-01, -3.54628563e-01,  3.62535805e-01,  1.53775796e-01,\n",
       "        6.29256904e-01,  1.52083337e-01,  2.79719681e-01,  1.32521197e-01,\n",
       "       -1.78859651e-01,  5.06911039e-01, -3.95820290e-02,  1.39464021e+00,\n",
       "        3.46829832e-01, -3.84000689e-01,  2.86312908e-01,  3.29150885e-01,\n",
       "        1.46841900e-02,  8.86813104e-01,  5.23069620e-01, -2.63826251e-01,\n",
       "        8.63203853e-02, -2.13421419e-01,  2.09889024e-01,  3.59871209e-01,\n",
       "       -7.91212022e-02,  7.00233802e-02,  3.93245965e-01, -2.00003758e-01,\n",
       "        3.99796925e-02, -1.68879557e+00,  4.45021361e-01,  1.08154804e-01,\n",
       "       -6.58026114e-02, -1.29835808e-03, -9.08856273e-01,  2.37350225e-01,\n",
       "       -3.19970236e-03, -4.56388742e-01, -5.99021055e-02,  1.35486554e-02,\n",
       "       -4.04398799e-01,  1.69125473e+00,  4.47008133e-01,  1.76770842e+00,\n",
       "       -2.29923092e-02, -3.17245573e-01, -2.78213918e-02, -6.92336023e-01,\n",
       "        2.88685709e-01,  1.44533753e-01, -4.88623977e-03, -4.58823889e-02,\n",
       "       -2.15048995e-03, -5.38618088e-01, -2.31248483e-01, -1.71693172e-02,\n",
       "       -1.68325026e-02,  4.51466352e-01, -4.83342648e-01,  1.69570670e-01,\n",
       "       -3.67538810e-01,  4.25545812e-01, -4.96583194e-01,  5.98349810e-01,\n",
       "       -8.13387800e-03,  3.37645352e-01,  1.57457829e-01,  1.48977971e+00,\n",
       "       -3.81681770e-02,  5.68637669e-01, -2.89773494e-01,  1.08901143e+00,\n",
       "        4.20122743e-01, -2.11785510e-02, -1.61344428e-02,  4.71747279e-01,\n",
       "        1.02237558e+00,  7.39441961e-02,  9.80737582e-02,  2.42812425e-01,\n",
       "       -4.31822360e-01, -4.15610760e-01, -4.15624142e-01,  2.12106872e+00,\n",
       "        3.29831064e-01,  1.82057321e-01, -1.72059953e-01,  9.43171680e-02,\n",
       "        1.55070293e+00, -1.50605047e-03, -1.08248472e+00, -9.54261482e-01,\n",
       "        8.60184729e-02, -4.05545413e-01, -1.75358489e-01, -1.75702989e-01,\n",
       "        2.41953403e-01, -2.87718177e-02,  5.58177233e-01, -1.63370684e-01,\n",
       "       -1.39259890e-01, -1.23302050e-01, -6.24155477e-02,  1.39753744e-01,\n",
       "       -4.90651250e-01, -4.01574105e-01,  1.45750380e+00,  9.86965001e-02,\n",
       "        2.48575240e-01, -6.43535703e-02, -2.59096473e-01, -1.60243630e+00,\n",
       "       -4.08178747e-01, -2.78148353e-01,  4.02485788e-01,  5.50889075e-01,\n",
       "       -2.12425441e-01, -2.79284030e-01,  3.48432153e-01,  9.99579579e-02,\n",
       "       -1.22134820e-01,  3.17847013e-01, -2.94806421e-01,  1.53010517e-01,\n",
       "       -4.65724140e-01,  2.06416935e-01,  1.48732424e-01, -3.04557204e-01,\n",
       "        4.40471649e-01,  4.08451229e-01,  1.06881589e-01,  2.35804096e-02,\n",
       "        1.36775523e-01, -3.35419059e-01, -3.12141967e+00,  1.97891057e-01,\n",
       "        3.73224527e-01, -1.56457812e-01,  4.67765868e-01,  9.05320793e-02,\n",
       "        7.69177914e-01, -2.97508121e-01,  3.73416655e-02,  1.31469101e-01,\n",
       "        1.44247501e-03,  1.65887964e+00,  2.20723599e-01,  2.22946331e-02,\n",
       "       -1.36377648e-01,  1.08907557e+00,  1.08860120e-01,  4.81034875e-01,\n",
       "        8.46697903e+00, -2.26063073e-01,  1.35221577e+00,  5.66646636e-01,\n",
       "        3.84279877e-01, -1.59180060e-01, -1.19177783e+00, -2.27118999e-01,\n",
       "       -1.66929185e-01, -3.08072772e-02,  2.49457192e-02,  4.23657417e-01,\n",
       "       -4.82876033e-01, -2.12069854e-01,  6.73556745e-01, -3.15851212e-01,\n",
       "       -6.97990298e-01,  3.97315383e-01,  8.97006094e-02, -2.65406281e-01,\n",
       "        9.37582701e-02, -4.52338979e-02,  3.54484379e-01, -5.05522013e-01,\n",
       "        4.20590729e-01, -1.70613229e-01,  8.71247202e-02,  1.67323545e-01,\n",
       "       -3.04017335e-01, -1.86783284e-01, -1.75775453e-01,  6.72874808e-01,\n",
       "       -3.95611346e-01, -2.17444837e-01, -4.53452945e-01,  2.19047117e+00,\n",
       "        7.08573699e-01, -4.23780859e-01, -6.90648928e-02, -1.51033366e+00,\n",
       "        3.64338130e-01, -4.14613962e-01,  1.08139291e-01, -1.41031444e-01,\n",
       "        6.64727315e-02, -1.66286230e-01, -5.25092423e-01,  1.75918847e-01,\n",
       "        1.48134768e-01,  6.03122562e-02,  1.35590002e-01,  7.79496133e-01,\n",
       "       -6.99994564e-02, -9.17558968e-02,  3.76167893e-01, -8.02439749e-02,\n",
       "       -1.26630294e+00, -6.70789480e-01, -1.02825952e+00, -5.05518317e-01,\n",
       "        1.30099624e-01,  3.06441337e-01,  2.04125226e-01, -1.19111383e+00,\n",
       "       -4.98126864e-01, -2.30017632e-01, -2.96849847e-01, -2.02445209e-01,\n",
       "        1.45175710e-01,  9.55584571e-02,  1.75353956e+00,  7.34256327e-01,\n",
       "        3.46282959e-01, -1.46302521e-01, -6.41428471e-01, -2.71719337e-01,\n",
       "        1.15394640e+00, -3.19649339e-01,  2.85594732e-01, -3.28788251e-01,\n",
       "       -3.16755801e-01,  9.31426659e-02, -3.76334280e-01, -5.04841208e-01,\n",
       "        1.83025181e-01,  3.25487643e-01,  8.62122297e-01,  1.56714849e-03,\n",
       "        1.57493007e+00, -1.17428862e-01, -1.42025249e-02,  8.14700276e-02,\n",
       "       -1.07107580e+00, -6.12944271e-03, -2.88846940e-01,  5.67347817e-02,\n",
       "       -1.58275306e+00, -6.11019135e-02,  4.16446447e-01, -4.27703559e-03,\n",
       "        3.11467052e-01, -2.93455333e-01,  1.18726440e-01,  2.66298085e-01,\n",
       "       -1.63966998e-01, -8.03468823e-01,  5.19617796e-01, -1.75840974e-01,\n",
       "        7.31304765e-01,  7.16269091e-02, -1.46222189e-01, -3.83290768e-01,\n",
       "        1.78498086e-02,  1.32056460e-01,  1.60991871e+00, -3.17580462e-01,\n",
       "       -6.45473525e-02,  3.71516287e-01,  2.08829165e-01, -1.69366360e-01,\n",
       "        2.72391915e-01,  1.14482605e+00, -2.46140823e-01, -1.87848315e-01,\n",
       "        3.00697744e-01, -6.67889863e-02, -1.76675811e-01, -1.09834105e-01,\n",
       "        3.91327977e-01,  6.88793123e-01, -2.93431371e-01,  3.72053832e-01,\n",
       "        1.60229765e-02,  1.40199304e+00,  2.92820007e-01, -3.27121377e-01,\n",
       "       -6.79630339e-01,  9.15713143e-03,  9.39631909e-02,  4.08488065e-02,\n",
       "        9.40247476e-02, -7.12659299e-01,  4.60997045e-01, -2.98481166e-01,\n",
       "       -8.50376129e-01, -4.37555820e-01,  4.13973033e-01,  1.40150517e-01,\n",
       "        6.85433205e-03, -1.84049025e-01, -2.74205565e-01,  3.53188872e-01,\n",
       "        1.59821734e-01,  4.09815878e-01,  7.54088461e-02, -1.88494131e-01,\n",
       "        3.50052007e-02,  1.21344984e+00,  2.53321558e-01, -5.63608885e-01,\n",
       "        5.56114078e-01, -1.19592333e+00,  1.69336766e-01, -5.01003921e-01,\n",
       "        5.81410853e-03,  1.61504358e-01,  4.73751754e-01, -5.24165034e-02,\n",
       "        4.96842593e-01, -4.35863644e-01,  2.69461691e-01, -5.85508253e-03,\n",
       "       -4.43449944e-01,  5.04622638e-01, -2.42775843e-01,  1.48386315e-01,\n",
       "        5.90807378e-01,  2.94106007e-01, -3.72938573e-01,  3.39673042e-01],\n",
       "      dtype=float32)"
      ]
     },
     "execution_count": 13,
     "metadata": {},
     "output_type": "execute_result"
    }
   ],
   "source": [
    "embed_query(\"give me function for finding circle area\")"
   ]
  },
  {
   "cell_type": "code",
   "execution_count": 14,
   "metadata": {},
   "outputs": [
    {
     "ename": "",
     "evalue": "",
     "output_type": "error",
     "traceback": [
      "\u001b[1;31mThe Kernel crashed while executing code in the current cell or a previous cell. \n",
      "\u001b[1;31mPlease review the code in the cell(s) to identify a possible cause of the failure. \n",
      "\u001b[1;31mClick <a href='https://aka.ms/vscodeJupyterKernelCrash'>here</a> for more info. \n",
      "\u001b[1;31mView Jupyter <a href='command:jupyter.viewOutput'>log</a> for further details."
     ]
    }
   ],
   "source": [
    "# serch in vectore store \n",
    "def search_code(query, index, chunks, top_k=5):\n",
    "    # Embed the query\n",
    "    query_embedding = embed_query(query)\n",
    "\n",
    "    # Search for the nearest neighbors\n",
    "    distances, indices = index.search(np.array([query_embedding]), top_k)\n",
    "    \n",
    "    # Retrieve the top K code snippets\n",
    "    results = [chunks[i] for i in indices[0]]\n",
    "    \n",
    "    return results"
   ]
  },
  {
   "cell_type": "code",
   "execution_count": null,
   "metadata": {},
   "outputs": [],
   "source": [
    "# Example of how to use the search function\n",
    "user_query = \"function to find circle area\"\n",
    "top_results = search_code(user_query, vectors[0], vectors[1], top_k=3)"
   ]
  },
  {
   "cell_type": "code",
   "execution_count": null,
   "metadata": {},
   "outputs": [],
   "source": [
    "# # The `top_results` will contain the closest matching code snippets to the query\n",
    "# for idx, result in enumerate(top_results):\n",
    "#     print(f\"Result {idx+1}:\")\n",
    "#     print(result)\n",
    "#     print(\"\\n\")"
   ]
  },
  {
   "cell_type": "markdown",
   "metadata": {},
   "source": [
    "#to get from repo and convert to txt"
   ]
  },
  {
   "cell_type": "code",
   "execution_count": null,
   "metadata": {},
   "outputs": [],
   "source": [
    "def main():\n",
    "    load_dotenv()\n",
    "    st.set_page_config(page_title=\"SWOC BOT\", page_icon='icon.jpg')\n",
    "    \n",
    "    if 'conversation' not in st.session_state:\n",
    "        st.session_state.conversation = None\n",
    "\n",
    "    if 'chat_history' not in st.session_state:\n",
    "        st.session_state.chat_history = None\n",
    "\n",
    "    st.write(css, unsafe_allow_html=True)\n",
    "\n",
    "    st.header(\"Chat with PDF :books:\", anchor=\"center\")\n",
    "    \n",
    "    # Input for user questions\n",
    "    user_question = st.text_input(\"Ask a question about a PDF file: \")\n",
    "    if user_question:\n",
    "        handle_userinput(user_question)\n",
    "\n",
    "    with st.sidebar:\n",
    "        st.subheader(\"Enter Repository Details\")\n",
    "\n",
    "        # Inputs for repository name and project name\n",
    "        project_name = st.text_input(\"Project Name\")\n",
    "        repo_name = st.text_input(\"Repository Name\")\n",
    "        \n",
    "        st.subheader(\"Your PDFs\")\n",
    "        pdfs = st.file_uploader(\"Upload PDFs\", type=['pdf'], accept_multiple_files=True)\n",
    "\n",
    "        # Button to trigger processing\n",
    "        if st.button(\"Process\"):\n",
    "            if project_name and repo_name:\n",
    "                with st.spinner(\"Processing...\"):\n",
    "                    # Get code from the Azure DevOps repository using user-provided project and repo names\n",
    "                    get_code_from_repo(repo_name, project_name)\n",
    "\n",
    "                    # Get the code text from the output .txt files\n",
    "                    raw_text = get_txt_text(\"output_files\")\n",
    "\n",
    "                    # Split the raw text into chunks\n",
    "                    chunks = text_to_chunks(raw_text)\n",
    "                   \n",
    "                    # Create a vector store using the code chunks\n",
    "                    vectorstore = get_vectorstore(chunks)\n",
    "\n",
    "                    # Create conversation chain and store it in session state\n",
    "                    st.session_state.conversation = get_conversation_chain(vectorstore)\n",
    "            else:\n",
    "                st.warning(\"Please provide both the project name and repository name.\")"
   ]
  },
  {
   "cell_type": "code",
   "execution_count": null,
   "metadata": {},
   "outputs": [],
   "source": [
    "def get_txt_text(txt_files_dir):\n",
    "    text = \"\"  # Initialize an empty string to collect all the text\n",
    "\n",
    "    # Traverse through all the files in the given directory\n",
    "    for file_name in os.listdir(txt_files_dir):\n",
    "        # Only process .txt files\n",
    "        if file_name.endswith('.txt'):\n",
    "            file_path = os.path.join(txt_files_dir, file_name)\n",
    "            \n",
    "            # Open and read the file content\n",
    "            with open(file_path, 'r', encoding='utf-8') as f:\n",
    "                file_content = f.read()\n",
    "                text += file_content  # Append the file content to the main text variable\n",
    "                \n",
    "                print(f\"Reading file: {file_name}\")  # Optional debug print\n",
    "\n",
    "    return text"
   ]
  }
 ],
 "metadata": {
  "kernelspec": {
   "display_name": "Python 3",
   "language": "python",
   "name": "python3"
  },
  "language_info": {
   "codemirror_mode": {
    "name": "ipython",
    "version": 3
   },
   "file_extension": ".py",
   "mimetype": "text/x-python",
   "name": "python",
   "nbconvert_exporter": "python",
   "pygments_lexer": "ipython3",
   "version": "3.12.4"
  }
 },
 "nbformat": 4,
 "nbformat_minor": 2
}
